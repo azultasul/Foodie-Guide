{
 "cells": [
  {
   "cell_type": "code",
   "execution_count": 17,
   "id": "3802c806",
   "metadata": {},
   "outputs": [
    {
     "data": {
      "text/plain": [
       "True"
      ]
     },
     "execution_count": 17,
     "metadata": {},
     "output_type": "execute_result"
    }
   ],
   "source": [
    "import os\n",
    "import dotenv\n",
    "import json\n",
    "dotenv.load_dotenv()"
   ]
  },
  {
   "cell_type": "markdown",
   "id": "3698f2a9",
   "metadata": {},
   "source": [
    "# Health data"
   ]
  },
  {
   "cell_type": "code",
   "execution_count": 3,
   "id": "652e1dd6-4e77-4574-a80b-cae052b3c205",
   "metadata": {},
   "outputs": [],
   "source": [
    "path = os.getenv(\"PATH_DATA_HEALTH\") # .env 파일에 경로 입력 ex) C:/Users/???/Downloads/120.초거대AI 사전학습용 헬스케어 질의응답 데이터/3.개방데이터/1.데이터/Validation/02.라벨링데이터/VL/"
   ]
  },
  {
   "cell_type": "code",
   "execution_count": 4,
   "id": "e375c30d-8eca-4dd4-ae1d-4e7fad8e3c06",
   "metadata": {},
   "outputs": [
    {
     "name": "stdout",
     "output_type": "stream",
     "text": [
      "1.질문 2.답변\n"
     ]
    }
   ],
   "source": [
    "folders = os.listdir(path)\n",
    "folder_question = folders[0]\n",
    "folder_answer = folders[1]\n",
    "print(folder_question, folder_answer)"
   ]
  },
  {
   "cell_type": "code",
   "execution_count": 5,
   "id": "2501065f",
   "metadata": {},
   "outputs": [],
   "source": [
    "def fullpath(*args):\n",
    "    return os.sep.join(args)\n",
    "\n",
    "def subdir(*args):\n",
    "    return os.listdir(os.sep.join(args))"
   ]
  },
  {
   "cell_type": "code",
   "execution_count": 102,
   "id": "bc2224a6",
   "metadata": {},
   "outputs": [],
   "source": [
    "folder = folder_answer\n",
    "ds_categorys = subdir(path, folder) # 질병 카테고리\n",
    "ATTR_TARGET = \"식이, 생활\"\n",
    "\n",
    "# 파일에 문자열 쓰기\n",
    "with open('docs/health.txt', 'w', encoding='utf-8') as file_out:\n",
    "    for ds_category in ds_categorys:\n",
    "        dss = subdir(path, folder, ds_category) # 질병들\n",
    "        for ds in dss:\n",
    "            attributes = subdir(path, folder, ds_category, ds)\n",
    "            if ATTR_TARGET in attributes:\n",
    "                filenames = subdir(path, folder, ds_category, ds, ATTR_TARGET)\n",
    "                for filename in filenames:\n",
    "                    with open(fullpath(path, folder, ds_category, ds, ATTR_TARGET, filename), 'r', encoding='UTF-8') as file:\n",
    "                        data = json.load(file)\n",
    "                        file_out.write(data['answer']['intro'] + data['answer']['body'] + data['answer']['conclusion'])\n",
    "            file_out.write(\"\\n\\n\")\n",
    "                        \n",
    "        \n",
    "#             path_file = fullpath(path, folder_question, ds_category, ds)\n",
    "#             print(ds_category, ds)"
   ]
  },
  {
   "cell_type": "markdown",
   "id": "8a405097",
   "metadata": {},
   "source": [
    "# Ingredient data"
   ]
  },
  {
   "cell_type": "code",
   "execution_count": 6,
   "id": "7beb4c91",
   "metadata": {},
   "outputs": [],
   "source": [
    "path = os.getenv(\"PATH_DATA_INGREDIENT\") # .env 파일에 경로 입력 ex) C:/Users/??/Data/222.관광 음식메뉴판 데이터/01-1.정식개방데이터/Validation/02.라벨링데이터/"
   ]
  },
  {
   "cell_type": "code",
   "execution_count": 70,
   "id": "d9193fb5",
   "metadata": {},
   "outputs": [
    {
     "name": "stderr",
     "output_type": "stream",
     "text": [
      "100%|██████████████████████████████████████████| 41105/41105 [00:00<00:00, 941085.51it/s]\n"
     ]
    }
   ],
   "source": [
    "from tqdm import tqdm\n",
    "folders = os.listdir(path)\n",
    "menus = {}\n",
    "\n",
    "for folder in folders:\n",
    "    filenames = subdir(path,folder)\n",
    "    for filename in filenames:\n",
    "        with open(fullpath(path, folder, filename), 'r', encoding='UTF-8') as file:\n",
    "            data = json.load(file)\n",
    "            for item in data['annotations']:\n",
    "                menu_name = item['menu_information']['ko']\n",
    "                ingreds = item['menu_information']['ingredients.ko']\n",
    "                if menus.get(menu_name)==None:\n",
    "                    menus[menu_name] = set(ingreds)\n",
    "                else:\n",
    "                    menus[menu_name] = menus[menu_name].union(set(ingreds))"
   ]
  },
  {
   "cell_type": "code",
   "execution_count": 71,
   "id": "5290037f",
   "metadata": {},
   "outputs": [
    {
     "name": "stderr",
     "output_type": "stream",
     "text": [
      "100%|██████████████████████████████████████████| 41105/41105 [00:00<00:00, 724971.26it/s]\n"
     ]
    }
   ],
   "source": [
    "with open('docs/ingredients.txt', 'w', encoding='utf-8') as file_out:\n",
    "    for key in tqdm(menus.keys()):\n",
    "        file_out.write(f\"{key}는 {','.join(menus[key])}(이)가 들어있습니다.\\n\")"
   ]
  }
 ],
 "metadata": {
  "kernelspec": {
   "display_name": "Python 3 (ipykernel)",
   "language": "python",
   "name": "python3"
  },
  "language_info": {
   "codemirror_mode": {
    "name": "ipython",
    "version": 3
   },
   "file_extension": ".py",
   "mimetype": "text/x-python",
   "name": "python",
   "nbconvert_exporter": "python",
   "pygments_lexer": "ipython3",
   "version": "3.8.10"
  }
 },
 "nbformat": 4,
 "nbformat_minor": 5
}
